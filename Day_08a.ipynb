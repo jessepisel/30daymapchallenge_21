{
 "cells": [
  {
   "cell_type": "code",
   "execution_count": 1,
   "id": "0109ebc8-e6aa-4ce7-9a56-003a618013ff",
   "metadata": {},
   "outputs": [],
   "source": [
    "import geopandas as gpd\n",
    "from sklearn.preprocessing import LabelEncoder\n",
    "import pandas as pd\n",
    "import matplotlib.pyplot as plt\n",
    "plt.style.use(\"seaborn-dark\")"
   ]
  },
  {
   "cell_type": "code",
   "execution_count": 2,
   "id": "960a403f-911f-44c1-85ce-10549c6982c2",
   "metadata": {},
   "outputs": [],
   "source": [
    "df = gpd.read_file(r'data/irrigation/Div4_Irrig_2015.shp')\n",
    "df.drop(['SW_WDID1', 'SW_WDID2',\n",
    "       'SW_WDID3', 'SW_WDID4', 'SW_WDID5', 'SW_WDID6', 'SW_WDID7', 'SW_WDID8',\n",
    "       'SW_WDID9', 'GW_TYPE1', 'GW_ID1', 'GW_CLASS1', 'GW_TYPE2', 'GW_ID2',\n",
    "       'GW_CLASS2', 'GW_TYPE3', 'GW_ID3', 'GW_CLASS3', 'GW_TYPE4', 'GW_ID4',\n",
    "       'GW_CLASS4', 'GW_TYPE5', 'GW_ID5', 'GW_CLASS5', 'GW_TYPE6', 'GW_ID6',\n",
    "       'GW_CLASS6', 'GW_TYPE7', 'GW_ID7', 'GW_CLASS7', 'GW_TYPE8', 'GW_ID8',\n",
    "       'GW_CLASS8', 'GW_TYPE9', 'GW_ID9', 'GW_CLASS9', 'GW_TYPE10', 'GW_ID10',\n",
    "       'GW_CLASS10', 'GW_TYPE11', 'GW_ID11', 'GW_CLASS11', 'GW_TYPE12',\n",
    "       'GW_ID12', 'GW_CLASS12', 'GW_TYPE13', 'GW_ID13', 'GW_CLASS13',\n",
    "       'GW_TYPE14', 'GW_ID14', 'GW_CLASS14', 'GW_TYPE15', 'GW_ID15',\n",
    "       'GW_CLASS15', 'GW_TYPE16', 'GW_ID16', 'GW_CLASS16', 'GW_TYPE17',\n",
    "       'GW_ID17', 'GW_CLASS17', 'GW_TYPE18', 'GW_ID18', 'GW_CLASS18',\n",
    "       'GW_TYPE19', 'GW_ID19', 'GW_CLASS19', 'GW_TYPE20', 'GW_ID20',\n",
    "       'GW_CLASS20', 'IRR', 'COMMENTS', 'FARM_UNIT'], axis=1, inplace=True)\n",
    "qual_data =['CROP_TYPE', 'CROP_SRC', 'PERENNIAL', 'IRRIG_TYPE']\n",
    "feat_to_predict = 'CROP_TYPE'"
   ]
  },
  {
   "cell_type": "code",
   "execution_count": 3,
   "id": "064ea2e3-868f-4b9f-b572-378f0205c278",
   "metadata": {
    "tags": []
   },
   "outputs": [],
   "source": [
    "ctype = LabelEncoder()\n",
    "csource = LabelEncoder()\n",
    "perennial = LabelEncoder()\n",
    "itype = LabelEncoder()\n",
    "d2 = df.copy()\n",
    "d2[qual_data[0]] = ctype.fit_transform(df[qual_data[0]].values)\n",
    "d2[qual_data[1]] = csource.fit_transform(df[qual_data[1]].values)\n",
    "d2[qual_data[2]] = perennial.fit_transform(df[qual_data[2]].values)\n",
    "d2[qual_data[3]] = itype.fit_transform(df[qual_data[3]].values)"
   ]
  },
  {
   "cell_type": "code",
   "execution_count": 4,
   "id": "57f4f396-a362-4038-9943-53cf134e0219",
   "metadata": {},
   "outputs": [],
   "source": [
    "from sklearn.preprocessing import MinMaxScaler\n",
    "from sklearn.model_selection import train_test_split\n",
    "from sklearn.pipeline import Pipeline\n",
    "from sklearn.svm import SVC"
   ]
  },
  {
   "cell_type": "code",
   "execution_count": 5,
   "id": "8afb9e49-4402-4660-acd8-3e7619a453ab",
   "metadata": {},
   "outputs": [],
   "source": [
    "X = d2.drop(['CROP_TYPE', 'geometry'], axis=1)\n",
    "y = d2['CROP_TYPE'] #need to LE earlier on with all the data\n",
    "\n",
    "X_train, X_test, y_train, y_test = train_test_split(X, y, test_size=0.2, random_state=86)"
   ]
  },
  {
   "cell_type": "code",
   "execution_count": 6,
   "id": "6fa00aef-3485-4c50-aec3-b6aa26b71bb4",
   "metadata": {},
   "outputs": [
    {
     "data": {
      "text/plain": [
       "0.7542877995377691"
      ]
     },
     "execution_count": 6,
     "metadata": {},
     "output_type": "execute_result"
    }
   ],
   "source": [
    "pipe = Pipeline([('scaler', MinMaxScaler()), ('classifier', SVC())])\n",
    "pipe.fit(X_train, y_train)\n",
    "pipe.score(X_train, y_train)"
   ]
  },
  {
   "cell_type": "code",
   "execution_count": 7,
   "id": "0f2c3428-d624-4024-9ab8-4516aaa588ab",
   "metadata": {},
   "outputs": [
    {
     "data": {
      "text/plain": [
       "0.7529182879377432"
      ]
     },
     "execution_count": 7,
     "metadata": {},
     "output_type": "execute_result"
    }
   ],
   "source": [
    "pipe.score(X_test,y_test)"
   ]
  },
  {
   "cell_type": "code",
   "execution_count": 8,
   "id": "499ba34a-c55b-416f-85ee-74e5d59404a5",
   "metadata": {},
   "outputs": [],
   "source": [
    "y_hat = ctype.inverse_transform(pipe.predict(X_test))\n",
    "labels = set(y_hat)"
   ]
  },
  {
   "cell_type": "code",
   "execution_count": 9,
   "id": "9f0e8e64-ef96-4bd0-8b78-df05be39112e",
   "metadata": {},
   "outputs": [],
   "source": [
    "df_train = pd.merge(X_train, df, left_index=True, right_index=True)\n",
    "df_test = pd.merge(X_test, df, left_index=True, right_index=True)\n",
    "df_test['y_hat'] = y_hat\n",
    "df_test['correct'] = 'Incorrect'\n",
    "df_test.loc[df_test[df_test.CROP_TYPE == df_test.y_hat].index,'correct'] = 'Correct'"
   ]
  },
  {
   "cell_type": "markdown",
   "id": "83a4f78d-f5aa-49a4-a092-0e9387370ddc",
   "metadata": {},
   "source": [
    "https://cdss.colorado.gov/gis-data/division-4-gunnison"
   ]
  },
  {
   "cell_type": "code",
   "execution_count": 10,
   "id": "3129e9e8-287b-4965-9ef2-04df59eabaa7",
   "metadata": {},
   "outputs": [
    {
     "name": "stderr",
     "output_type": "stream",
     "text": [
      "C:\\Users\\FAC_PI~1\\AppData\\Local\\Temp/ipykernel_3728/1168737546.py:1: UserWarning: Column names longer than 10 characters will be truncated when saved to ESRI Shapefile.\n",
      "  df_test.to_file('data/test_preds.shp')\n",
      "C:\\Users\\FAC_PI~1\\AppData\\Local\\Temp/ipykernel_3728/1168737546.py:2: UserWarning: Column names longer than 10 characters will be truncated when saved to ESRI Shapefile.\n",
      "  df_train.to_file('data/train_data.shp')\n"
     ]
    }
   ],
   "source": [
    "df_test.to_file('data/test_preds.shp')\n",
    "df_train.to_file('data/train_data.shp')"
   ]
  }
 ],
 "metadata": {
  "kernelspec": {
   "display_name": "Python 3 (ipykernel)",
   "language": "python",
   "name": "python3"
  },
  "language_info": {
   "codemirror_mode": {
    "name": "ipython",
    "version": 3
   },
   "file_extension": ".py",
   "mimetype": "text/x-python",
   "name": "python",
   "nbconvert_exporter": "python",
   "pygments_lexer": "ipython3",
   "version": "3.8.10"
  }
 },
 "nbformat": 4,
 "nbformat_minor": 5
}

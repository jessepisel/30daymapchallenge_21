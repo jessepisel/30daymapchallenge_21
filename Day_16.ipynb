{
 "cells": [
  {
   "cell_type": "code",
   "execution_count": 1,
   "id": "8d040d9b-a1b0-44c4-93d6-b57662e4014c",
   "metadata": {},
   "outputs": [],
   "source": [
    "import pygmt\n",
    "import geopandas as gpd"
   ]
  },
  {
   "cell_type": "code",
   "execution_count": 2,
   "id": "38be96a9-e278-4412-95e8-0f7330b07143",
   "metadata": {},
   "outputs": [],
   "source": [
    "df = gpd.read_file(r'data/MunicipalBoundariesinColorado.geojson')"
   ]
  },
  {
   "cell_type": "code",
   "execution_count": 3,
   "id": "19560a90-77bc-48c2-900a-e54be29c05d1",
   "metadata": {},
   "outputs": [],
   "source": [
    "region = [-109.5, -101.5, 36.75, 41.25]"
   ]
  },
  {
   "cell_type": "code",
   "execution_count": null,
   "id": "3ab01afa-106f-4c70-8acc-21fae0c98e30",
   "metadata": {},
   "outputs": [],
   "source": [
    "fig = pygmt.Figure()\n",
    "fig.basemap(region=region, projection=\"M4i\", frame=[\"a\",'+t\"Colorado Municipal Boundaries\"'])\n",
    "fig.grdimage(\"@srtm_relief_03s\", shading=True, cmap='oleron')\n",
    "fig.plot(data=df, color='white', label='Municipality')\n",
    "fig.text(text=[\"https://data.colorado.gov/Local-Aggregation/Municipal-Boundaries-in-Colorado/u943-ics6\"], \n",
    "         x=-106.8, y=36.6, font=\"5p,Helvetica-Bold,white\")\n",
    "fig.legend()"
   ]
  },
  {
   "cell_type": "code",
   "execution_count": null,
   "id": "c0b6d3dd",
   "metadata": {},
   "outputs": [],
   "source": [
    "fig.show(width=1000)"
   ]
  },
  {
   "cell_type": "code",
   "execution_count": null,
   "id": "3d0966ce",
   "metadata": {},
   "outputs": [],
   "source": [
    "fig.savefig('Day_16.png')"
   ]
  }
 ],
 "metadata": {
  "kernelspec": {
   "display_name": "Python 3 (ipykernel)",
   "language": "python",
   "name": "python3"
  },
  "language_info": {
   "codemirror_mode": {
    "name": "ipython",
    "version": 3
   },
   "file_extension": ".py",
   "mimetype": "text/x-python",
   "name": "python",
   "nbconvert_exporter": "python",
   "pygments_lexer": "ipython3",
   "version": "3.9.7"
  }
 },
 "nbformat": 4,
 "nbformat_minor": 5
}

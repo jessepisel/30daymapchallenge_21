{
 "cells": [
  {
   "cell_type": "code",
   "execution_count": 1,
   "id": "10e40505-669a-4657-803f-4dcd7d1bfdc0",
   "metadata": {},
   "outputs": [],
   "source": [
    "import geopandas as gpd\n",
    "import matplotlib.pyplot as plt\n",
    "import matplotlib.colors as colors\n",
    "plt.style.use('tableau-colorblind10')"
   ]
  },
  {
   "cell_type": "code",
   "execution_count": null,
   "id": "9de7bd55-9c61-41fc-b78e-f739265f14e2",
   "metadata": {},
   "outputs": [],
   "source": [
    "fire = gpd.read_file('data/FireDistrictsinColorado.geojson')\n",
    "fire.to_crs(epsg=26954, inplace=True)\n",
    "fire.head()"
   ]
  },
  {
   "cell_type": "code",
   "execution_count": null,
   "id": "0a390477-cbf0-476b-8866-02ea5f079ece",
   "metadata": {},
   "outputs": [],
   "source": [
    "fig, ax = plt.subplots(figsize = (15,15))\n",
    "ax.patch.set_facecolor(\"#ffffff\")\n",
    "customCmap = colors.LinearSegmentedColormap.from_list(\"mycmap\", [\"#002868\",\"#bf0a30\", \"#ffd700\"])\n",
    "fire.plot(column=fire.area, legend=False, ax=ax, cmap=customCmap, norm=colors.PowerNorm(gamma=0.5),edgecolor='gray',linewidth=0.2)\n",
    "cax = fig.add_axes([1, 0.2, 0.01, 0.6])\n",
    "sm = plt.cm.ScalarMappable(cmap=customCmap, norm=colors.Normalize(vmin=fire.area.min(), vmax=fire.area.max()))\n",
    "sm._A = []\n",
    "cbr = fig.colorbar(sm, cax=cax,)\n",
    "plt.tight_layout()\n",
    "ax.set_xlabel('Easting (m)')\n",
    "ax.set_ylabel('Northing (m)')\n",
    "ax.set_title('Colorado Fire Protection Districts by Area Served', fontsize=20)\n",
    "plt.savefig('Day_3.png')"
   ]
  },
  {
   "cell_type": "code",
   "execution_count": null,
   "id": "97c1a05a-0404-44cc-aef3-284e8b1ba31e",
   "metadata": {},
   "outputs": [],
   "source": []
  }
 ],
 "metadata": {
  "kernelspec": {
   "display_name": "Python 3 (ipykernel)",
   "language": "python",
   "name": "python3"
  },
  "language_info": {
   "codemirror_mode": {
    "name": "ipython",
    "version": 3
   },
   "file_extension": ".py",
   "mimetype": "text/x-python",
   "name": "python",
   "nbconvert_exporter": "python",
   "pygments_lexer": "ipython3",
   "version": "3.8.10"
  }
 },
 "nbformat": 4,
 "nbformat_minor": 5
}
